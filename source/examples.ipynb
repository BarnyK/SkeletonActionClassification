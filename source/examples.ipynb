{
 "cells": [
  {
   "cell_type": "markdown",
   "source": [
    "### Contents\n",
    "- Generate\n",
    "- Preprocess\n",
    "- Train\n",
    "- Eval\n",
    "- Classify\n",
    "- Visualize"
   ],
   "metadata": {
    "collapsed": false
   },
   "id": "c77f09a38f228fc6"
  },
  {
   "cell_type": "code",
   "execution_count": null,
   "outputs": [],
   "source": [],
   "metadata": {
    "collapsed": false
   },
   "id": "2aaeb4c412f94acd"
  },
  {
   "cell_type": "markdown",
   "source": [
    "## Generating\n",
    "It should take flags for \n",
    "--config\n",
    "--input_path - folder from which files will be loaded\n",
    "--output_path - folder to which files will be saved"
   ],
   "metadata": {
    "collapsed": false
   },
   "id": "74e45700de1683a2"
  },
  {
   "cell_type": "code",
   "execution_count": null,
   "outputs": [],
   "source": [
    "import os\n",
    "\n",
    "from procedures.config import GeneralConfig\n",
    "\n",
    "# Gen example \n",
    "cfg = GeneralConfig.from_yaml_file(\"configs/general/default_ap_xview.yaml\")\n",
    "cfg.pose_config.dataset_name = \"ntu\"\n",
    "input_folder = \"/media/barny/SSD4/MasterThesis/Data/ntu_sample/\"\n",
    "output_folder = f\"/tmp/ntu_samples/\"\n",
    "os.makedirs(output_folder, exist_ok=True)\n",
    "#gen_alphapose_skeletons(input_folder, output_folder, cfg)"
   ],
   "metadata": {
    "collapsed": false
   },
   "id": "c3e1162f2f7bf8e3"
  },
  {
   "cell_type": "markdown",
   "source": [
    "## Preprocessing example\n",
    "A lot of different options here but definitely\n",
    "--config\n",
    "--input_path - coma separated list\n",
    "--output_path - folder to which results should be saved\n",
    "--processes - processes"
   ],
   "metadata": {
    "collapsed": false
   },
   "id": "5f99de597ece9381"
  },
  {
   "cell_type": "code",
   "execution_count": null,
   "outputs": [],
   "source": [
    "from procedures.preprocess_files import preprocess_files\n",
    "from procedures.config import GeneralConfig\n",
    "\n",
    "# Prep example\n",
    "cfg = GeneralConfig.from_yaml_file(\"configs/general/default_ap_xview.yaml\")\n",
    "print(cfg.prep_config.to_yaml())\n",
    "# preprocess_files([\"/media/barny/SSD4/MasterThesis/Data/alphapose_skeletons/ntu_coco\",\n",
    "#                   \"/media/barny/SSD4/MasterThesis/Data/alphapose_skeletons/ntu_120_coco\"],\n",
    "#                  \"/media/barny/SSD4/MasterThesis/Data/prepped_data/ap_no_missing\",\n",
    "#                  cfg)\n"
   ],
   "metadata": {
    "collapsed": false
   },
   "id": "af278f38e498b6cb"
  },
  {
   "cell_type": "code",
   "execution_count": 1,
   "outputs": [
    {
     "name": "stdout",
     "output_type": "stream",
     "text": [
      "Namespace(config='./configs/general/default_ap_xview.yaml', function='preprocess', inputs=['/media/barny/SSD4/MasterThesis/Data/alphapose_skeletons/ntu_120_coco', '/media/barny/SSD4/MasterThesis/Data/alphapose_skeletons/ntu_coco'], processes=24, save_path='/media/barny/SSD4/MasterThesis/Data/prepped_data/ap_fixed')\r\n",
      "100%|██████████████████████████████████| 114480/114480 [14:20<00:00, 133.06it/s]\r\n",
      "ntu_xsub: 56880\r\n",
      "\tTrain: 40320\r\n",
      "\tTest: 16560\r\n",
      "ntu_xview: 56880\r\n",
      "\tTrain: 37920\r\n",
      "\tTest: 18960\r\n",
      "ntu120_xset: 114480\r\n",
      "\tTrain: 54720\r\n",
      "\tTest: 59760\r\n",
      "ntu120_xsub: 114480\r\n",
      "\tTrain: 63360\r\n",
      "\tTest: 51120\r\n",
      "ntu_mutual_xsub: 10428\r\n",
      "\tTrain: 7392\r\n",
      "\tTest: 3036\r\n",
      "ntu_mutual_xview: 10428\r\n",
      "\tTrain: 6952\r\n",
      "\tTest: 3476\r\n",
      "ntu120_mutual_xset: 24828\r\n",
      "\tTrain: 11904\r\n",
      "\tTest: 12924\r\n",
      "ntu120_mutual_xsub: 24828\r\n",
      "\tTrain: 13152\r\n",
      "\tTest: 11676\r\n"
     ]
    }
   ],
   "source": [
    "!python runner.py preprocess ./configs/general/default_ap_xview.yaml /media/barny/SSD4/MasterThesis/Data/alphapose_skeletons/ntu_120_coco /media/barny/SSD4/MasterThesis/Data/alphapose_skeletons/ntu_coco --save-path /media/barny/SSD4/MasterThesis/Data/prepped_data/ap_final --processes 24"
   ],
   "metadata": {
    "collapsed": false,
    "ExecuteTime": {
     "end_time": "2023-11-30T23:46:20.867923162Z",
     "start_time": "2023-11-30T23:31:10.391791731Z"
    }
   },
   "id": "ce3723fb6599e92f"
  },
  {
   "cell_type": "code",
   "execution_count": null,
   "outputs": [],
   "source": [
    "# !python runner.py preprocess ./configs/general/ntu_xview.yaml ~/MasterThesis/Data/nturgb+d_skeletons/ ~/MasterThesis/Data/nturgb+d_skeletons_120/ --save-path /media/barny/SSD4/MasterThesis/Data/prepped_data/ntu_test2"
   ],
   "metadata": {
    "collapsed": false
   },
   "id": "42cad10cdd7a9f4b"
  },
  {
   "cell_type": "code",
   "execution_count": null,
   "outputs": [],
   "source": [
    "#!python runner.py preprocess ./configs/general/ntu_xview.yaml ~/MasterThesis/Data/nturgb+d_skeletons/ ~/MasterThesis/Data/nturgb+d_skeletons_120/ --transform --save-path /media/barny/SSD4/MasterThesis/Data/prepped_data/ntu_transformed"
   ],
   "metadata": {
    "collapsed": false
   },
   "id": "e955657e908d2008"
  },
  {
   "cell_type": "code",
   "execution_count": null,
   "outputs": [],
   "source": [
    "cfg = GeneralConfig.from_yaml_file(\"configs/general/default_ap_xview.yaml\")\n",
    "print(cfg.to_yaml())"
   ],
   "metadata": {
    "collapsed": false
   },
   "id": "b62eff1dcbed57a2"
  },
  {
   "cell_type": "markdown",
   "source": [
    "## Evaluation\n",
    "--config\n",
    "--model\n",
    "The rest should be in config and specific to model"
   ],
   "metadata": {
    "collapsed": false
   },
   "id": "d47fe44d979ee594"
  },
  {
   "cell_type": "code",
   "execution_count": null,
   "outputs": [],
   "source": [
    "from procedures.evaluate import evaluate\n",
    "\n",
    "# Eval example\n",
    "cfg = GeneralConfig.from_yaml_file(\"configs/general/default_ap_xview.yaml\")\n",
    "#evaluate(cfg, cfg.best_model_path)"
   ],
   "metadata": {
    "collapsed": false
   },
   "id": "d779f9e46cf35ce7"
  },
  {
   "cell_type": "code",
   "execution_count": null,
   "outputs": [],
   "source": [
    "!python runner.py eval ~/MasterThesis/Data/logs/feature_test/stgcn_jo-bo_ntu_xsub_0/config.yaml"
   ],
   "metadata": {
    "collapsed": false
   },
   "id": "c16988a5674b705d"
  },
  {
   "cell_type": "markdown",
   "source": [
    "## Classify single file\n",
    "config\n",
    "video_file\n",
    "--model\n",
    "--method"
   ],
   "metadata": {
    "collapsed": false
   },
   "id": "6af6026eff73851c"
  },
  {
   "cell_type": "code",
   "execution_count": null,
   "outputs": [],
   "source": [
    "# Classify single example"
   ],
   "metadata": {
    "collapsed": false
   },
   "id": "e3b52f754d94c377"
  },
  {
   "cell_type": "markdown",
   "source": [
    "## Visualize\n",
    "--skeleton-file\n",
    "--video-file"
   ],
   "metadata": {
    "collapsed": false
   },
   "id": "303ef5ec47acb8b9"
  },
  {
   "cell_type": "code",
   "execution_count": null,
   "outputs": [],
   "source": [
    "from procedures.visualize_skeleton import visualize_skeleton\n",
    "\n",
    "# Visualize\n",
    "#visualize_skeleton(\"/home/barny/MasterThesis/Data/nturgb+d_skeletons/S008C002P030R001A037.skeleton\", \"/home/barny/MasterThesis/Data/nturgb+d_rgb/S008C002P030R001A037_rgb.avi\")\n",
    "visualize_skeleton(\"/home/barny/MasterThesis/Data/alphapose_skeletons/ut_set1_coco/0_1_4.coco17.apskel.pkl\", draw_point_number=True)"
   ],
   "metadata": {
    "collapsed": false
   },
   "id": "4475c4a0e91b7de0"
  },
  {
   "cell_type": "code",
   "execution_count": null,
   "outputs": [],
   "source": [
    "!python runner.py visualize /media/barny/SSD4/MasterThesis/Data/prepped_skeleton_files/32_6_1.coco17.apskel.pkl /media/barny/SSD4/MasterThesis/Data/ut-interaction/segmented_set1/32_6_1.avi"
   ],
   "metadata": {
    "collapsed": false
   },
   "id": "b9066f38742463ca"
  },
  {
   "cell_type": "code",
   "execution_count": null,
   "outputs": [],
   "source": [
    "!python runner.py preprocess ./configs/general/ut_2pgcn_conf.yaml /media/barny/SSD4/MasterThesis/Data/alphapose_skeletons/ut_set1_coco/3_1_3.coco17.apskel.pkl /media/barny/SSD4/MasterThesis/Data/alphapose_skeletons/ut_set1_coco/1_1_2.coco17.apskel.pkl  --save-path /media/barny/SSD4/MasterThesis/Data/prepped_skeleton_files"
   ],
   "metadata": {
    "collapsed": false
   },
   "id": "86888ba134fd08d2"
  },
  {
   "cell_type": "code",
   "execution_count": null,
   "outputs": [],
   "source": [
    "!python runner.py visualize /media/barny/SSD4/MasterThesis/Data/prepped_skeleton_files/1_1_2.coco17.apskel.pkl /media/barny/SSD4/MasterThesis/Data/ut-interaction/segmented_set1/1_1_2.avi\n",
    "!python runner.py visualize /media/barny/SSD4/MasterThesis/Data/prepped_skeleton_files/3_1_3.coco17.apskel.pkl /media/barny/SSD4/MasterThesis/Data/ut-interaction/segmented_set1/3_1_3.avi\n"
   ],
   "metadata": {
    "collapsed": false
   },
   "id": "298f61e7e861068e"
  },
  {
   "cell_type": "code",
   "execution_count": null,
   "outputs": [],
   "source": [],
   "metadata": {
    "collapsed": false
   },
   "id": "d6e50e69fc876987"
  }
 ],
 "metadata": {
  "kernelspec": {
   "display_name": "Python 3",
   "language": "python",
   "name": "python3"
  },
  "language_info": {
   "codemirror_mode": {
    "name": "ipython",
    "version": 2
   },
   "file_extension": ".py",
   "mimetype": "text/x-python",
   "name": "python",
   "nbconvert_exporter": "python",
   "pygments_lexer": "ipython2",
   "version": "2.7.6"
  }
 },
 "nbformat": 4,
 "nbformat_minor": 5
}
